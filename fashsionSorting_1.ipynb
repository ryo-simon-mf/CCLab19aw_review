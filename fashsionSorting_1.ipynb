{
 "nbformat": 4,
 "nbformat_minor": 2,
 "metadata": {
  "language_info": {
   "name": "python",
   "codemirror_mode": {
    "name": "ipython",
    "version": 3
   },
   "version": "3.6.8-final"
  },
  "orig_nbformat": 2,
  "file_extension": ".py",
  "mimetype": "text/x-python",
  "name": "python",
  "npconvert_exporter": "python",
  "pygments_lexer": "ipython3",
  "version": 3,
  "kernelspec": {
   "name": "python36864bit81ebedd45e224acf9c3b866055264de6",
   "display_name": "Python 3.6.8 64-bit"
  }
 },
 "cells": [
  {
   "cell_type": "code",
   "execution_count": 1,
   "metadata": {},
   "outputs": [
    {
     "name": "stderr",
     "output_type": "stream",
     "text": "Using TensorFlow backend.\n"
    }
   ],
   "source": [
    "import os\n",
    "import keras \n",
    "import numpy as np\n",
    "import shutil"
   ]
  },
  {
   "cell_type": "code",
   "execution_count": 2,
   "metadata": {},
   "outputs": [],
   "source": [
    "#file makes\n",
    "\n",
    "original_dataset_dir = '/Users/ryosimon/Documents/CCLab/fashsionSorting/pics_rename2'\n",
    "original_techno_dir = '/Users/ryosimon/Documents/CCLab/fashsionSorting/pics_rename2/techno'\n",
    "original_punkrock_dir = '/Users/ryosimon/Documents/CCLab/fashsionSorting/pics_rename2/punkrock'\n",
    "original_hiphop_dir = '/Users/ryosimon/Documents/CCLab/fashsionSorting/pics_rename2/hiphop'"
   ]
  },
  {
   "cell_type": "code",
   "execution_count": 10,
   "metadata": {},
   "outputs": [],
   "source": [
    "# make file path\n",
    "base_dir = '/Users/ryosimon/Documents/CCLab/fashsionSorting/fashsionSortingTest2'\n",
    "\n",
    "os.mkdir(base_dir)\n",
    "\n",
    "# make train, validation, test files\n",
    "\n",
    "train_dir = os.path.join(base_dir, 'train')\n",
    "os.mkdir(train_dir)\n",
    "validation_dir = os.path.join(base_dir, 'validation')\n",
    "os.mkdir(validation_dir)\n",
    "test_dir = os.path.join(base_dir, 'test')\n",
    "os.mkdir(test_dir)"
   ]
  },
  {
   "cell_type": "code",
   "execution_count": 11,
   "metadata": {},
   "outputs": [],
   "source": [
    "# make techno, punkrock, hiphop train files\n",
    "\n",
    "train_techno_dir = os.path.join(train_dir, 'techno')\n",
    "os.mkdir(train_techno_dir)\n",
    "train_punkrock_dir = os.path.join(train_dir, 'punkrock')\n",
    "os.mkdir(train_punkrock_dir)\n",
    "train_hiphop_dir = os.path.join(train_dir, 'hiphop')\n",
    "os.mkdir(train_hiphop_dir)"
   ]
  },
  {
   "cell_type": "code",
   "execution_count": 12,
   "metadata": {},
   "outputs": [],
   "source": [
    "# make techno, punkrock, hiphop validation files\n",
    "\n",
    "validation_techno_dir = os.path.join(validation_dir, 'techno')\n",
    "os.mkdir(validation_techno_dir)\n",
    "validation_punkrock_dir = os.path.join(validation_dir, 'punkrock')\n",
    "os.mkdir(validation_punkrock_dir)\n",
    "validation_hiphop_dir = os.path.join(validation_dir, 'hiphop')\n",
    "os.mkdir(validation_hiphop_dir)"
   ]
  },
  {
   "cell_type": "code",
   "execution_count": 13,
   "metadata": {},
   "outputs": [],
   "source": [
    "# make techno, punkrock, hiphop test files\n",
    "\n",
    "test_techno_dir = os.path.join(test_dir, 'techno')\n",
    "os.mkdir(test_techno_dir)\n",
    "test_punkrock_dir = os.path.join(test_dir, 'punkrock')\n",
    "os.mkdir(test_punkrock_dir)\n",
    "test_hiphop_dir = os.path.join(test_dir, 'hiphop')\n",
    "os.mkdir(test_hiphop_dir)"
   ]
  },
  {
   "cell_type": "code",
   "execution_count": 15,
   "metadata": {},
   "outputs": [
    {
     "name": "stdout",
     "output_type": "stream",
     "text": "Techno: 300\nPunkRock: 300\nHipHop: 300\n"
    }
   ],
   "source": [
    "original_techno = os.path.join(original_dataset_dir,'techno')\n",
    "te_files = os.listdir(original_techno)  \n",
    "te_count = len(te_files)  - 1\n",
    "print('Techno:', te_count)\n",
    "\n",
    "\n",
    "\n",
    "original_punkrock = os.path.join(original_dataset_dir,'punkrock')\n",
    "pu_files = os.listdir(original_punkrock)\n",
    "pu_count = len(pu_files) - 1 \n",
    "print('PunkRock:', pu_count)\n",
    "\n",
    "original_hiphop = os.path.join(original_dataset_dir,'hiphop')\n",
    "hi_files = os.listdir(original_hiphop)\n",
    "hi_count = len(hi_files) - 1\n",
    "print('HipHop:', hi_count)\n",
    "\n"
   ]
  },
  {
   "cell_type": "code",
   "execution_count": 16,
   "metadata": {},
   "outputs": [
    {
     "name": "stdout",
     "output_type": "stream",
     "text": "150 75 150 75 150 75\n"
    }
   ],
   "source": [
    "techno_half = int(te_count / 2)\n",
    "techno_quarter = int(techno_half / 2)\n",
    "punkrock_half = int(pu_count / 2)\n",
    "punkrock_quarter = int(punkrock_half / 2)\n",
    "hiphop_half = int(hi_count / 2)\n",
    "hiphop_quarter = int(hiphop_half / 2)\n",
    "\n",
    "\n",
    "print(techno_half, techno_quarter, punkrock_half, punkrock_quarter, hiphop_half, hiphop_quarter)\n",
    "\n",
    "\n"
   ]
  },
  {
   "cell_type": "code",
   "execution_count": 17,
   "metadata": {},
   "outputs": [],
   "source": [
    "fnames = ['techno.{}.jpg'.format(i) for i in range(techno_half)]\n",
    "for fname in fnames:\n",
    "    src = os.path.join(original_techno_dir, fname)\n",
    "    dst = os.path.join(train_techno_dir, fname)\n",
    "    shutil.copyfile(src, dst)"
   ]
  },
  {
   "cell_type": "code",
   "execution_count": 18,
   "metadata": {},
   "outputs": [],
   "source": [
    "fnames = ['techno.{}.jpg'.format(i) for i in range(techno_half ,techno_half + techno_quarter)]\n",
    "for fname in fnames:\n",
    "    src = os.path.join(original_techno_dir, fname)\n",
    "    dst = os.path.join(validation_techno_dir, fname)\n",
    "    shutil.copyfile(src, dst)"
   ]
  },
  {
   "cell_type": "code",
   "execution_count": 19,
   "metadata": {},
   "outputs": [],
   "source": [
    "fnames = ['techno.{}.jpg'.format(i) for i in range(techno_half + techno_quarter ,techno_half + techno_quarter + techno_quarter)]\n",
    "for fname in fnames:\n",
    "    src = os.path.join(original_techno_dir, fname)\n",
    "    dst = os.path.join(test_techno_dir, fname)\n",
    "    shutil.copyfile(src, dst)"
   ]
  },
  {
   "cell_type": "code",
   "execution_count": 20,
   "metadata": {},
   "outputs": [],
   "source": [
    "fnames = ['punkrock.{}.jpg'.format(i) for i in range(punkrock_half)]\n",
    "for fname in fnames:\n",
    "    src = os.path.join(original_punkrock_dir, fname)\n",
    "    dst = os.path.join(train_punkrock_dir, fname)\n",
    "    shutil.copyfile(src, dst)\n",
    "\n",
    "fnames = ['punkrock.{}.jpg'.format(i) for i in range(punkrock_half ,punkrock_half + punkrock_quarter)]\n",
    "for fname in fnames:\n",
    "    src = os.path.join(original_punkrock_dir, fname)\n",
    "    dst = os.path.join(validation_punkrock_dir, fname)\n",
    "    shutil.copyfile(src, dst)\n",
    "\n",
    "fnames = ['punkrock.{}.jpg'.format(i) for i in range(punkrock_half + punkrock_quarter ,punkrock_half + punkrock_quarter + punkrock_quarter)]\n",
    "for fname in fnames:\n",
    "    src = os.path.join(original_punkrock_dir, fname)\n",
    "    dst = os.path.join(test_punkrock_dir, fname)\n",
    "    shutil.copyfile(src, dst)"
   ]
  },
  {
   "cell_type": "code",
   "execution_count": 21,
   "metadata": {},
   "outputs": [],
   "source": [
    "fnames = ['hiphop.{}.jpg'.format(i) for i in range(hiphop_half)]\n",
    "for fname in fnames:\n",
    "    src = os.path.join(original_hiphop_dir, fname)\n",
    "    dst = os.path.join(train_hiphop_dir, fname)\n",
    "    shutil.copyfile(src, dst)\n",
    "\n",
    "fnames = ['hiphop.{}.jpg'.format(i) for i in range(hiphop_half ,hiphop_half + hiphop_quarter)]\n",
    "for fname in fnames:\n",
    "    src = os.path.join(original_hiphop_dir, fname)\n",
    "    dst = os.path.join(validation_hiphop_dir, fname)\n",
    "    shutil.copyfile(src, dst)\n",
    "\n",
    "fnames = ['hiphop.{}.jpg'.format(i) for i in range(hiphop_half + hiphop_quarter ,hiphop_half + hiphop_quarter + hiphop_quarter)]\n",
    "for fname in fnames:\n",
    "    src = os.path.join(original_hiphop_dir, fname)\n",
    "    dst = os.path.join(test_hiphop_dir, fname)\n",
    "    shutil.copyfile(src, dst)"
   ]
  },
  {
   "cell_type": "code",
   "execution_count": 22,
   "metadata": {},
   "outputs": [
    {
     "name": "stdout",
     "output_type": "stream",
     "text": "total train techno image: 150\ntotal validation techno image: 75\ntotal test techno image: 75\ntotal train punkrock image: 150\ntotal validation punkrock image: 75\ntotal test punkrock image: 75\ntotal train hiphop image: 150\ntotal validation hiphop image: 75\ntotal test hiphop image: 75\n"
    }
   ],
   "source": [
    "print('total train techno image:', len(os.listdir(train_techno_dir)))\n",
    "print('total validation techno image:', len(os.listdir(validation_techno_dir)))\n",
    "print('total test techno image:', len(os.listdir(test_techno_dir)))\n",
    "\n",
    "print('total train punkrock image:', len(os.listdir(train_punkrock_dir)))\n",
    "print('total validation punkrock image:', len(os.listdir(validation_punkrock_dir)))\n",
    "print('total test punkrock image:', len(os.listdir(test_punkrock_dir)))\n",
    "\n",
    "print('total train hiphop image:', len(os.listdir(train_hiphop_dir)))\n",
    "print('total validation hiphop image:', len(os.listdir(validation_hiphop_dir)))\n",
    "print('total test hiphop image:', len(os.listdir(test_hiphop_dir)))"
   ]
  },
  {
   "cell_type": "code",
   "execution_count": null,
   "metadata": {},
   "outputs": [],
   "source": []
  }
 ]
}